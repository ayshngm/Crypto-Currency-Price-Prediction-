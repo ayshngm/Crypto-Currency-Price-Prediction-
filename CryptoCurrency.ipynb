{
  "nbformat": 4,
  "nbformat_minor": 0,
  "metadata": {
    "colab": {
      "provenance": []
    },
    "kernelspec": {
      "name": "python3",
      "display_name": "Python 3"
    },
    "language_info": {
      "name": "python"
    }
  },
  "cells": [
    {
      "cell_type": "code",
      "execution_count": null,
      "metadata": {
        "id": "1y0GE0uC3vZK"
      },
      "outputs": [],
      "source": [
        "import numpy as np # linear algebra\n",
        "from numpy.random import seed\n",
        "import math\n",
        "\n",
        "import pandas as pd # data processing, CSV file I/O (e.g. pd.read_csv)\n",
        "\n",
        "from datetime import datetime, date\n",
        "\n",
        "import matplotlib.pyplot as plt\n",
        "plt.rcParams.update({'font.size': 14})\n",
        "import seaborn as sns\n",
        "\n",
        "import warnings # Supress warnings\n",
        "warnings.filterwarnings('ignore')\n",
        "\n",
        "import statsmodels as sm\n",
        "from statsmodels.tsa.ar_model import AutoReg\n",
        "from statsmodels.tsa.arima_model import ARMA\n",
        "\n",
        "# Fix seed for reproducible results\n",
        "SEED = 42\n",
        "np.random.seed(SEED)\n",
        "\n",
        "# Visualizations\n",
        "lag_acf = 15\n",
        "lag_pacf = 15\n",
        "height = 4\n",
        "width = 12"
      ]
    },
    {
      "cell_type": "code",
      "source": [
        "from statsmodels.tsa.stattools import adfuller\n",
        "\n",
        "def check_stationarity(series):\n",
        "    # Copied from https://machinelearningmastery.com/time-series-data-stationary-python/\n",
        "\n",
        "    result = adfuller(series.values)\n",
        "\n",
        "    print('ADF Statistic: %f' % result[0])\n",
        "    print('p-value: %f' % result[1])\n",
        "    print('Critical Values:')\n",
        "    for key, value in result[4].items():\n",
        "        print('\\t%s: %.3f' % (key, value))\n",
        "\n",
        "    if (result[1] <= 0.05) & (result[4]['5%'] > result[0]):\n",
        "        print(\"\\u001b[32mStationary\\u001b[0m\")\n",
        "    else:\n",
        "        print(\"\\x1b[31mNon-stationary\\x1b[0m\")"
      ],
      "metadata": {
        "id": "IjsP3Qdv33ys"
      },
      "execution_count": null,
      "outputs": []
    },
    {
      "cell_type": "code",
      "source": [
        "from statsmodels.graphics.tsaplots import plot_acf\n",
        "from statsmodels.graphics.tsaplots import plot_pacf"
      ],
      "metadata": {
        "id": "MaDJkoSd38ua"
      },
      "execution_count": null,
      "outputs": []
    },
    {
      "cell_type": "code",
      "source": [
        "alpha_1 = 0.5\n",
        "num_samples =  128\n",
        "\n",
        "np.random.seed(SEED)\n",
        "ar = np.r_[1, -np.array([alpha_1])] # add zero-lag and negate\n",
        "ma = np.r_[1] # add zero-lag\n",
        "\n",
        "sample = pd.DataFrame({'timestamp' : pd.date_range('2021-01-01', periods=num_samples, freq='MS'),\n",
        "                       't' : sm.tsa.arima_process.arma_generate_sample(ar, ma, num_samples)\n",
        "                      })\n",
        "\n",
        "f, ax = plt.subplots(nrows=1, ncols=1, figsize=(12, 4))\n",
        "\n",
        "sns.lineplot(x=sample.timestamp, y=sample['t'], marker='o')\n",
        "ax.set_xlim([sample.timestamp.iloc[0], sample.timestamp.iloc[-1]])\n",
        "ax.set_title('Sample Time Series')\n",
        "plt.tight_layout()\n",
        "plt.show()"
      ],
      "metadata": {
        "id": "bJVuyd9L39jt"
      },
      "execution_count": null,
      "outputs": []
    },
    {
      "cell_type": "code",
      "source": [
        "check_stationarity(sample['t'])"
      ],
      "metadata": {
        "id": "yfpUIi_r4F_q"
      },
      "execution_count": null,
      "outputs": []
    },
    {
      "cell_type": "code",
      "source": [
        "f, ax = plt.subplots(nrows=2, ncols=1, figsize=(width, 2*height))\n",
        "plot_acf(sample['t'],lags=lag_acf, ax=ax[0])\n",
        "plot_pacf(sample['t'],lags=lag_pacf, ax=ax[1], method='ols')\n",
        "\n",
        "ax[1].annotate('Strong correlation at lag = 1', xy=(1, 0.6),  xycoords='data',\n",
        "            xytext=(0.17, 0.75), textcoords='axes fraction',\n",
        "            arrowprops=dict(color='red', shrink=0.05, width=1))\n",
        "\n",
        "plt.tight_layout()\n",
        "plt.show()"
      ],
      "metadata": {
        "id": "u2gCiAbv4LQ4"
      },
      "execution_count": null,
      "outputs": []
    },
    {
      "cell_type": "code",
      "source": [
        "train_len = int(0.8* num_samples)\n",
        "\n",
        "train = sample['t'][:train_len]\n",
        "ar_model = AutoReg(train, lags=1).fit()\n",
        "\n",
        "print(ar_model.summary())\n",
        "pred = ar_model.predict(start=train_len, end=num_samples, dynamic=False)\n",
        "\n",
        "f, ax = plt.subplots(nrows=1, ncols=1, figsize=(12, 4))\n",
        "sns.lineplot(x=sample.timestamp[train_len:num_samples], y=sample.t[train_len:num_samples], marker='o', label='test', color='grey')\n",
        "sns.lineplot(x=sample.timestamp[:train_len], y=train, marker='o', label='train')\n",
        "sns.lineplot(x=sample.timestamp[train_len:num_samples], y=pred, marker='o', label='pred')\n",
        "ax.set_xlim([sample.timestamp.iloc[0], sample.timestamp.iloc[-1]])\n",
        "ax.set_title('Sample Time Series')\n",
        "plt.tight_layout()\n",
        "plt.show()"
      ],
      "metadata": {
        "id": "zE_vodRT4Rpd"
      },
      "execution_count": null,
      "outputs": []
    },
    {
      "cell_type": "code",
      "source": [
        "alpha_1 = 0.5\n",
        "alpha_2 = -0.5"
      ],
      "metadata": {
        "id": "pRP0LM4G4W2a"
      },
      "execution_count": null,
      "outputs": []
    },
    {
      "cell_type": "code",
      "source": [
        "np.random.seed(SEED)\n",
        "ar = np.r_[1, -np.array([alpha_1, alpha_2])] # add zero-lag and negate\n",
        "ma = np.r_[1] # add zero-lag\n",
        "\n",
        "sample = pd.DataFrame({'timestamp' : pd.date_range('2021-01-01', periods=num_samples, freq='MS'),\n",
        "                       't' : sm.tsa.arima_process.arma_generate_sample(ar, ma, num_samples)\n",
        "                      })\n",
        "\n",
        "f, ax = plt.subplots(nrows=1, ncols=1, figsize=(12, 4))\n",
        "\n",
        "sns.lineplot(x=sample.timestamp, y=sample['t'], marker='o')\n",
        "ax.set_xlim([sample.timestamp.iloc[0], sample.timestamp.iloc[-1]])\n",
        "ax.set_title('Sample Time Series')\n",
        "plt.tight_layout()\n",
        "plt.show()"
      ],
      "metadata": {
        "id": "PuLQWV794cEr"
      },
      "execution_count": null,
      "outputs": []
    },
    {
      "cell_type": "code",
      "source": [
        "check_stationarity(sample['t'])"
      ],
      "metadata": {
        "id": "F1L1msX14gTF"
      },
      "execution_count": null,
      "outputs": []
    },
    {
      "cell_type": "code",
      "source": [
        "f, ax = plt.subplots(nrows=2, ncols=1, figsize=(width, 2*height))\n",
        "plot_acf(sample['t'],lags=lag_acf, ax=ax[0])\n",
        "plot_pacf(sample['t'],lags=lag_pacf, ax=ax[1], method='ols')\n",
        "\n",
        "ax[1].annotate('Strong correlation at lag = 1', xy=(1, 0.36),  xycoords='data',\n",
        "            xytext=(0.15, 0.7), textcoords='axes fraction',\n",
        "            arrowprops=dict(color='red', shrink=0.05, width=1))\n",
        "\n",
        "ax[1].annotate('Strong correlation at lag = 2', xy=(2.1, -0.5),  xycoords='data',\n",
        "            xytext=(0.25, 0.1), textcoords='axes fraction',\n",
        "            arrowprops=dict(color='red', shrink=0.05, width=1))\n",
        "\n",
        "plt.tight_layout()\n",
        "plt.show()"
      ],
      "metadata": {
        "id": "9wu1gpvl4n8M"
      },
      "execution_count": null,
      "outputs": []
    },
    {
      "cell_type": "code",
      "source": [
        "train = sample['t'][:train_len]\n",
        "ar_model = AutoReg(train, lags=2).fit()\n",
        "\n",
        "print(ar_model.summary())\n",
        "pred = ar_model.predict(start=train_len, end=num_samples, dynamic=False)\n",
        "\n",
        "f, ax = plt.subplots(nrows=1, ncols=1, figsize=(12, 4))\n",
        "sns.lineplot(x=sample.timestamp[train_len:num_samples], y=sample.t[train_len:num_samples], marker='o', label='test', color='grey')\n",
        "sns.lineplot(x=sample.timestamp[:train_len], y=train, marker='o', label='train')\n",
        "sns.lineplot(x=sample.timestamp[train_len:num_samples], y=pred, marker='o', label='pred')\n",
        "ax.set_xlim([sample.timestamp.iloc[0], sample.timestamp.iloc[-1]])\n",
        "ax.set_title('Sample Time Series')\n",
        "plt.tight_layout()\n",
        "plt.show()"
      ],
      "metadata": {
        "id": "p_bnCJcG4stZ"
      },
      "execution_count": null,
      "outputs": []
    },
    {
      "cell_type": "code",
      "source": [
        "\n",
        "beta_1 = 0.5"
      ],
      "metadata": {
        "id": "MT9gEySC4v__"
      },
      "execution_count": null,
      "outputs": []
    },
    {
      "cell_type": "code",
      "source": [
        "np.random.seed(SEED)\n",
        "ar = np.r_[1] # add zero-lag and negate\n",
        "ma = np.r_[1, np.array([beta_1])] # add zero-lag\n",
        "\n",
        "sample = pd.DataFrame({'timestamp' : pd.date_range('2021-01-01', periods=num_samples, freq='MS'),\n",
        "                       't' : sm.tsa.arima_process.arma_generate_sample(ar, ma, num_samples)\n",
        "                      })\n",
        "\n",
        "f, ax = plt.subplots(nrows=1, ncols=1, figsize=(12, 4))\n",
        "\n",
        "sns.lineplot(x=sample.timestamp, y=sample['t'], marker='o')\n",
        "ax.set_xlim([sample.timestamp.iloc[0], sample.timestamp.iloc[-1]])\n",
        "ax.set_title('Sample Time Series')\n",
        "plt.tight_layout()\n",
        "plt.show()"
      ],
      "metadata": {
        "id": "M0D8L83B5uAU"
      },
      "execution_count": null,
      "outputs": []
    },
    {
      "cell_type": "code",
      "source": [
        "check_stationarity(sample['t'])"
      ],
      "metadata": {
        "id": "o5p2T1vp5zDW"
      },
      "execution_count": null,
      "outputs": []
    },
    {
      "cell_type": "code",
      "source": [
        "f, ax = plt.subplots(nrows=2, ncols=1, figsize=(width, 2*height))\n",
        "plot_acf(sample['t'],lags=lag_acf, ax=ax[0])\n",
        "plot_pacf(sample['t'],lags=lag_pacf, ax=ax[1], method='ols')\n",
        "\n",
        "ax[0].annotate('Strong correlation at lag = 1', xy=(1, 0.5),  xycoords='data',\n",
        "            xytext=(0.15, 0.7), textcoords='axes fraction',\n",
        "            arrowprops=dict(color='red', shrink=0.05, width=1))\n",
        "\n",
        "plt.tight_layout()\n",
        "plt.show()"
      ],
      "metadata": {
        "id": "sE0KkQSg53iH"
      },
      "execution_count": null,
      "outputs": []
    },
    {
      "cell_type": "code",
      "source": [
        "train = sample['t'][:train_len]\n",
        "ma_model = ARMA(train, order=(0,1)).fit()\n",
        "\n",
        "print(ma_model.summary())\n",
        "pred = ma_model.predict(start=train_len, end=num_samples, dynamic=False)\n",
        "\n",
        "f, ax = plt.subplots(nrows=1, ncols=1, figsize=(12, 4))\n",
        "sns.lineplot(x=sample.timestamp[train_len:num_samples], y=sample.t[train_len:num_samples], marker='o', label='test', color='grey')\n",
        "sns.lineplot(x=sample.timestamp[:train_len], y=train, marker='o', label='train')\n",
        "sns.lineplot(x=sample.timestamp[train_len:num_samples], y=pred, marker='o', label='pred')\n",
        "ax.set_xlim([sample.timestamp.iloc[0], sample.timestamp.iloc[-1]])\n",
        "ax.set_title('Sample Time Series')\n",
        "plt.tight_layout()\n",
        "plt.show()"
      ],
      "metadata": {
        "id": "j8IUz-TG57aR"
      },
      "execution_count": null,
      "outputs": []
    },
    {
      "cell_type": "code",
      "source": [
        "beta_1 = 0.5\n",
        "beta_2 = 0.5"
      ],
      "metadata": {
        "id": "j0zQezc25_vL"
      },
      "execution_count": null,
      "outputs": []
    },
    {
      "cell_type": "code",
      "source": [
        "np.random.seed(SEED)\n",
        "ar = np.r_[1] # add zero-lag and negate\n",
        "ma = np.r_[1, np.array([beta_1, beta_2])] # add zero-lag\n",
        "\n",
        "sample = pd.DataFrame({'timestamp' : pd.date_range('2021-01-01', periods=num_samples, freq='MS'),\n",
        "                       't' : sm.tsa.arima_process.arma_generate_sample(ar, ma, num_samples)\n",
        "                      })\n",
        "\n",
        "f, ax = plt.subplots(nrows=1, ncols=1, figsize=(12, 4))\n",
        "\n",
        "sns.lineplot(x=sample.timestamp, y=sample['t'], marker='o')\n",
        "ax.set_xlim([sample.timestamp.iloc[0], sample.timestamp.iloc[-1]])\n",
        "ax.set_title('Sample Time Series')\n",
        "plt.tight_layout()\n",
        "plt.show()"
      ],
      "metadata": {
        "id": "Tu2ggkQ26DyE"
      },
      "execution_count": null,
      "outputs": []
    },
    {
      "cell_type": "code",
      "source": [
        "check_stationarity(sample['t'])"
      ],
      "metadata": {
        "id": "GBO046Ac6G40"
      },
      "execution_count": null,
      "outputs": []
    },
    {
      "cell_type": "code",
      "source": [
        "f, ax = plt.subplots(nrows=2, ncols=1, figsize=(width, 2*height))\n",
        "plot_acf(sample['t'],lags=lag_acf, ax=ax[0])\n",
        "plot_pacf(sample['t'],lags=lag_pacf, ax=ax[1], method='ols')\n",
        "\n",
        "ax[0].annotate('Strong correlation at lag = 1', xy=(1, 0.65),  xycoords='data',\n",
        "            xytext=(0.15, 0.8), textcoords='axes fraction',\n",
        "            arrowprops=dict(color='red', shrink=0.05, width=1))\n",
        "\n",
        "ax[0].annotate('Strong correlation at lag = 2', xy=(2, 0.5),  xycoords='data',\n",
        "            xytext=(0.25, 0.7), textcoords='axes fraction',\n",
        "            arrowprops=dict(color='red', shrink=0.05, width=1))\n",
        "\n",
        "plt.tight_layout()\n",
        "plt.show()"
      ],
      "metadata": {
        "id": "UNFYoSPM6JST"
      },
      "execution_count": null,
      "outputs": []
    },
    {
      "cell_type": "code",
      "source": [
        "train = sample['t'][:train_len]\n",
        "ma_model = ARMA(train, order=(0,2)).fit()\n",
        "\n",
        "print(ma_model.summary())\n",
        "pred = ma_model.predict(start=train_len, end=num_samples, dynamic=False)\n",
        "\n",
        "f, ax = plt.subplots(nrows=1, ncols=1, figsize=(12, 4))\n",
        "sns.lineplot(x=sample.timestamp[train_len:num_samples], y=sample.t[train_len:num_samples], marker='o', label='test', color='grey')\n",
        "sns.lineplot(x=sample.timestamp[:train_len], y=train, marker='o', label='train')\n",
        "sns.lineplot(x=sample.timestamp[train_len:num_samples], y=pred, marker='o', label='pred')\n",
        "ax.set_xlim([sample.timestamp.iloc[0], sample.timestamp.iloc[-1]])\n",
        "ax.set_title('Sample Time Series')\n",
        "plt.tight_layout()\n",
        "plt.show()"
      ],
      "metadata": {
        "id": "V7-Qrw1F6NJp"
      },
      "execution_count": null,
      "outputs": []
    },
    {
      "cell_type": "code",
      "source": [
        "T = 12\n",
        "\n",
        "sample = pd.DataFrame({'timestamp' : pd.date_range('2021-01-01', periods=48, freq='MS'),\n",
        "                       't' : [1, 2, 3, 4, 4.5, 5, 7, 8, 6, 4, 2, 2, 1, 2, 3, 4, 4.5, 5, 7, 8, 6, 4, 2, 2, 1, 2, 3, 4, 4.5, 5, 7, 8, 6, 4, 2, 2, 1, 2, 3, 4, 4.5, 5, 7, 8, 6, 4, 2, 2]\n",
        "                      })\n",
        "\n",
        "f, ax = plt.subplots(nrows=1, ncols=1, figsize=(12, 4))\n",
        "\n",
        "sns.lineplot(x=sample.timestamp, y=sample['t'], marker='o')\n",
        "ax.set_xlim([sample.timestamp.iloc[0], sample.timestamp.iloc[-1]])\n",
        "ax.set_title('Sample Time Series')\n",
        "plt.tight_layout()\n",
        "plt.show()"
      ],
      "metadata": {
        "id": "zA5QIFS56Qrl"
      },
      "execution_count": null,
      "outputs": []
    },
    {
      "cell_type": "code",
      "source": [
        "check_stationarity(sample['t'])"
      ],
      "metadata": {
        "id": "AYvmjIF36U6n"
      },
      "execution_count": null,
      "outputs": []
    },
    {
      "cell_type": "code",
      "source": [
        "f, ax = plt.subplots(nrows=2, ncols=1, figsize=(width, 2*height))\n",
        "plot_acf(sample['t'],lags=lag_acf, ax=ax[0])\n",
        "plot_pacf(sample['t'],lags=lag_pacf, ax=ax[1], method='ols')\n",
        "\n",
        "for i in range(2):\n",
        "    ax[i].axvline(x=T, color='r', linestyle='--')\n",
        "    ax[i].set_xlim([-0.5, lag_acf+0.5])\n",
        "    ax[i].set_ylim([-1.1, 1.1])\n",
        "\n",
        "plt.tight_layout()\n",
        "plt.show()"
      ],
      "metadata": {
        "id": "LVSw7V0j6ZTs"
      },
      "execution_count": null,
      "outputs": []
    },
    {
      "cell_type": "code",
      "source": [
        "f, ax = plt.subplots(nrows=2, ncols=1, figsize=(width, 2*height))\n",
        "plot_acf(sample['t'],lags=lag_acf, ax=ax[0])\n",
        "plot_pacf(sample['t'],lags=lag_pacf, ax=ax[1], method='ols')\n",
        "\n",
        "for i in range(2):\n",
        "    ax[i].axvline(x=T, color='r', linestyle='--')\n",
        "    ax[i].set_xlim([-0.5, lag_acf+0.5])\n",
        "    ax[i].set_ylim([-1.1, 1.1])\n",
        "\n",
        "plt.tight_layout()\n",
        "plt.show()"
      ],
      "metadata": {
        "id": "-VzaahY26cUC"
      },
      "execution_count": null,
      "outputs": []
    },
    {
      "cell_type": "code",
      "source": [
        "f, ax = plt.subplots(nrows=1, ncols=1, figsize=(12, 4))\n",
        "sns.lineplot(x=sample.timestamp[26:48], y=sample.t[26:48], marker='o', label='test', color='grey')\n",
        "sns.lineplot(x=sample.timestamp[:26], y=train, marker='o', label='train')\n",
        "sns.lineplot(x=sample.timestamp[26:48], y=pred, marker='o', label='pred')\n",
        "ax.set_xlim([sample.timestamp.iloc[0], sample.timestamp.iloc[-1]])\n",
        "ax.set_title('Sample Time Series')\n",
        "plt.tight_layout()\n",
        "plt.show()"
      ],
      "metadata": {
        "id": "CUgl2lx66fKW"
      },
      "execution_count": null,
      "outputs": []
    },
    {
      "cell_type": "code",
      "source": [
        "time = np.arange(0, 48)\n",
        "sample = pd.DataFrame({'timestamp' : pd.date_range('2021-01-01', periods=48, freq='MS'),\n",
        "                       't' : [1, 2, 3, 4, 4.5, 5, 7, 8, 6, 4, 2, 2, 1, 2, 3, 4, 4.5, 5, 7, 8, 6, 4, 2, 2, 1, 2, 3, 4, 4.5, 5, 7, 8, 6, 4, 2, 2, 1, 2, 3, 4, 4.5, 5, 7, 8, 6, 4, 2, 2] + ((0.05*time)+20)\n",
        "                      })\n",
        "\n",
        "f, ax = plt.subplots(nrows=1, ncols=1, figsize=(12, 4))\n",
        "\n",
        "sns.lineplot(x=sample.timestamp, y=sample['t'], marker='o')\n",
        "ax.set_xlim([sample.timestamp.iloc[0], sample.timestamp.iloc[-1]])\n",
        "ax.set_title('Sample Time Series')\n",
        "plt.tight_layout()\n",
        "plt.show()"
      ],
      "metadata": {
        "id": "v85cq_ia6i1N"
      },
      "execution_count": null,
      "outputs": []
    },
    {
      "cell_type": "code",
      "source": [
        "check_stationarity(sample['t'])"
      ],
      "metadata": {
        "id": "ZW-jsrGI6mcE"
      },
      "execution_count": null,
      "outputs": []
    },
    {
      "cell_type": "code",
      "source": [
        "sample['t_diff'] = sample['t'].diff().fillna(0)\n",
        "\n",
        "display(sample.head(5).style.set_caption('Sample Time Series'))\n",
        "\n",
        "check_stationarity(sample['t_diff'])"
      ],
      "metadata": {
        "id": "Sk4H3Tui6o5E"
      },
      "execution_count": null,
      "outputs": []
    },
    {
      "cell_type": "code",
      "source": [
        "f, ax = plt.subplots(nrows=2, ncols=1, figsize=(12, 8))\n",
        "\n",
        "sns.lineplot(x=sample.timestamp, y=sample['t'], marker='o', ax=ax[0])\n",
        "ax[0].set_xlim([sample.timestamp.iloc[0], sample.timestamp.iloc[-1]])\n",
        "\n",
        "ax[0].set_title('Sample Time Series')\n",
        "\n",
        "sns.lineplot(x=sample.timestamp, y=sample['t_diff'], marker='o', ax=ax[1])\n",
        "ax[1].set_xlim([sample.timestamp.iloc[0], sample.timestamp.iloc[-1]])\n",
        "ax[1].set_title('Differenced Sample Time Series')\n",
        "plt.tight_layout()\n",
        "plt.show()"
      ],
      "metadata": {
        "id": "VvedSSRR6rya"
      },
      "execution_count": null,
      "outputs": []
    },
    {
      "cell_type": "code",
      "source": [
        "f, ax = plt.subplots(nrows=2, ncols=1, figsize=(width, 2*height))\n",
        "plot_acf(sample['t_diff'],lags=lag_acf, ax=ax[0])\n",
        "plot_pacf(sample['t_diff'],lags=lag_pacf, ax=ax[1], method='ols')\n",
        "\n",
        "for i in range(2):\n",
        "    ax[i].axvline(x=T, color='r', linestyle='--')\n",
        "    ax[i].set_xlim([-0.5, lag_acf+0.5])\n",
        "    ax[i].set_ylim([-1.1, 1.1])\n",
        "\n",
        "plt.tight_layout()\n",
        "plt.show()"
      ],
      "metadata": {
        "id": "WKV_P_mW6vDr"
      },
      "execution_count": null,
      "outputs": []
    },
    {
      "cell_type": "code",
      "source": [
        "sample = pd.DataFrame({'timestamp' : pd.date_range('2021-01-01', periods=48, freq='MS'),\n",
        "                       't' : np.random.randint(1,101,len(time))\n",
        "                      })\n",
        "\n",
        "f, ax = plt.subplots(nrows=1, ncols=1, figsize=(12, 4))\n",
        "\n",
        "sns.lineplot(x=sample.timestamp, y=sample['t'], marker='o')\n",
        "ax.set_xlim([sample.timestamp.iloc[0], sample.timestamp.iloc[-1]])\n",
        "ax.set_title('Sample Time Series')\n",
        "plt.tight_layout()\n",
        "plt.show()"
      ],
      "metadata": {
        "id": "W9ahB8TO6yLF"
      },
      "execution_count": null,
      "outputs": []
    },
    {
      "cell_type": "code",
      "source": [
        "check_stationarity(sample['t'])"
      ],
      "metadata": {
        "id": "a6GTu12j61of"
      },
      "execution_count": null,
      "outputs": []
    },
    {
      "cell_type": "code",
      "source": [
        "f, ax = plt.subplots(nrows=2, ncols=1, figsize=(width, 2*height))\n",
        "plot_acf(sample['t'],lags=lag_acf, ax=ax[0])\n",
        "plot_pacf(sample['t'],lags=lag_pacf, ax=ax[1], method='ols')\n",
        "\n",
        "plt.tight_layout()\n",
        "plt.show()"
      ],
      "metadata": {
        "id": "Bdgm9dGF64Vl"
      },
      "execution_count": null,
      "outputs": []
    },
    {
      "cell_type": "code",
      "source": [
        "# Copied from https://towardsdatascience.com/time-series-from-scratch-white-noise-and-random-walk-5c96270514d3\n",
        "# Start with a random number - let's say 0\n",
        "np.random.seed(42)\n",
        "\n",
        "random_walk = [0]\n",
        "\n",
        "for i in range(1, 48):\n",
        "    # Movement direction based on a random number\n",
        "    num = -1 if np.random.random() < 0.5 else 1\n",
        "    random_walk.append(random_walk[-1] + num)\n",
        "\n",
        "sample = pd.DataFrame({'timestamp' : pd.date_range('2021-01-01', periods=48, freq='MS'),\n",
        "                       't' : random_walk\n",
        "                      })\n",
        "\n",
        "f, ax = plt.subplots(nrows=1, ncols=1, figsize=(12, 4))\n",
        "\n",
        "sns.lineplot(x=sample.timestamp, y=sample['t'], marker='o')\n",
        "ax.set_xlim([sample.timestamp.iloc[0], sample.timestamp.iloc[-1]])\n",
        "ax.set_title('Sample Time Series')\n",
        "plt.tight_layout()\n",
        "plt.show()"
      ],
      "metadata": {
        "id": "sQeHnEsg67kH"
      },
      "execution_count": null,
      "outputs": []
    },
    {
      "cell_type": "code",
      "source": [
        "check_stationarity(sample['t'])"
      ],
      "metadata": {
        "id": "2MVSElg46_VZ"
      },
      "execution_count": null,
      "outputs": []
    },
    {
      "cell_type": "code",
      "source": [
        "sample['t_diff'] = sample['t'].diff().fillna(0)\n",
        " check_stationarity(sample['t_diff'])"
      ],
      "metadata": {
        "id": "q1LwDqLb7CDn"
      },
      "execution_count": null,
      "outputs": []
    },
    {
      "cell_type": "code",
      "source": [
        "f, ax = plt.subplots(nrows=2, ncols=1, figsize=(width, 2*height))\n",
        "plot_acf(sample['t'],lags=lag_acf, ax=ax[0])\n",
        "plot_pacf(sample['t'],lags=lag_pacf, ax=ax[1], method='ols')\n",
        "\n",
        "ax[1].annotate('Correlation to adjacent observation', xy=(1, 0.9),  xycoords='data',\n",
        "            xytext=(0.15, 0.7), textcoords='axes fraction',\n",
        "            arrowprops=dict(color='red', shrink=0.05, width=1))\n",
        "plt.tight_layout()\n",
        "plt.show()"
      ],
      "metadata": {
        "id": "vvAaQFp27GDG"
      },
      "execution_count": null,
      "outputs": []
    },
    {
      "cell_type": "code",
      "source": [
        "f, ax = plt.subplots(nrows=2, ncols=1, figsize=(width, 2*height))\n",
        "plot_acf(sample['t_diff'],lags=lag_acf, ax=ax[0])\n",
        "plot_pacf(sample['t_diff'],lags=lag_pacf, ax=ax[1], method='ols')\n",
        "plt.tight_layout()\n",
        "plt.show()"
      ],
      "metadata": {
        "id": "tEBFY3qF7Ioe"
      },
      "execution_count": null,
      "outputs": []
    },
    {
      "cell_type": "code",
      "source": [
        "sample = pd.DataFrame({'timestamp' : pd.date_range('2021-01-01', periods=48, freq='MS'),\n",
        "                       't' : 5\n",
        "                      })\n",
        "\n",
        "f, ax = plt.subplots(nrows=1, ncols=1, figsize=(12, 4))\n",
        "\n",
        "sns.lineplot(x=sample.timestamp, y=sample['t'], marker='o')\n",
        "ax.set_xlim([sample.timestamp.iloc[0], sample.timestamp.iloc[-1]])\n",
        "ax.set_title('Sample Time Series')\n",
        "plt.tight_layout()\n",
        "plt.show()"
      ],
      "metadata": {
        "id": "hVRbPcD17Llb"
      },
      "execution_count": null,
      "outputs": []
    },
    {
      "cell_type": "code",
      "source": [
        "check_stationarity(sample['t'])"
      ],
      "metadata": {
        "id": "yG1uyBkm7Oef"
      },
      "execution_count": null,
      "outputs": []
    },
    {
      "cell_type": "code",
      "source": [
        "sample['t_diff'] = sample['t'].diff().fillna(0)\n",
        "check_stationarity(sample['t_diff'])"
      ],
      "metadata": {
        "id": "DpbGYnqZ7QtR"
      },
      "execution_count": null,
      "outputs": []
    },
    {
      "cell_type": "code",
      "source": [
        "f, ax = plt.subplots(nrows=2, ncols=1, figsize=(width, 2*height))\n",
        "plot_acf(sample['t'],lags=lag_acf, ax=ax[0])\n",
        "plot_pacf(sample['t'],lags=lag_pacf, ax=ax[1], method='ols')\n",
        "\n",
        "plt.tight_layout()\n",
        "plt.show()"
      ],
      "metadata": {
        "id": "fcJGnIAU7T_B"
      },
      "execution_count": null,
      "outputs": []
    },
    {
      "cell_type": "code",
      "source": [
        "f, ax = plt.subplots(nrows=10, ncols=3, figsize=(2*width, 10*height))\n",
        "\n",
        "### AR(1) ###\n",
        "np.random.seed(SEED)\n",
        "ar = np.r_[1, -np.array([alpha_1])] # add zero-lag and negate\n",
        "ma = np.r_[1] # add zero-lag\n",
        "\n",
        "sample = pd.DataFrame({'timestamp' : pd.date_range('2021-01-01', periods=num_samples, freq='MS'),\n",
        "                       't' : sm.tsa.arima_process.arma_generate_sample(ar, ma, num_samples)\n",
        "                      })\n",
        "\n",
        "sns.lineplot(x=sample.timestamp, y=sample['t'], marker='o', ax=ax[0,0])\n",
        "ax[0,0].set_xlim([sample.timestamp.iloc[0], sample.timestamp.iloc[-1]])\n",
        "ax[0,0].set_title('Time Series for AR(1)')\n",
        "\n",
        "plot_acf(sample['t'],lags=lag_acf, ax=ax[0, 1], title='ACF for AR(1)')\n",
        "plot_pacf(sample['t'],lags=lag_pacf, ax=ax[0, 2], method='ols', title='PACF for AR(1)')\n",
        "ax[0,2].annotate('Strong correlation at lag = 1', xy=(1, 0.6),  xycoords='data',\n",
        "            xytext=(0.17, 0.75), textcoords='axes fraction',\n",
        "            arrowprops=dict(color='red', shrink=0.05, width=1))\n",
        "\n",
        "### AR(2) ###\n",
        "np.random.seed(SEED)\n",
        "ar = np.r_[1, -np.array([alpha_1, alpha_2])] # add zero-lag and negate\n",
        "ma = np.r_[1] # add zero-lag\n",
        "\n",
        "sample = pd.DataFrame({'timestamp' : pd.date_range('2021-01-01', periods=num_samples, freq='MS'),\n",
        "                       't' : sm.tsa.arima_process.arma_generate_sample(ar, ma, num_samples)\n",
        "                      })\n",
        "\n",
        "sns.lineplot(x=sample.timestamp, y=sample['t'], marker='o', ax=ax[1,0])\n",
        "ax[1,0].set_xlim([sample.timestamp.iloc[0], sample.timestamp.iloc[-1]])\n",
        "ax[1,0].set_title('Time Series for AR(2)')\n",
        "\n",
        "plot_acf(sample['t'],lags=lag_acf, ax=ax[1, 1], title='ACF for AR(2)')\n",
        "plot_pacf(sample['t'],lags=lag_pacf, ax=ax[1, 2], method='ols', title='PACF for AR(2)')\n",
        "\n",
        "ax[1, 2].annotate('Strong correlation at lag = 1', xy=(1, 0.36),  xycoords='data',\n",
        "            xytext=(0.15, 0.7), textcoords='axes fraction',\n",
        "            arrowprops=dict(color='red', shrink=0.05, width=1))\n",
        "\n",
        "ax[1, 2].annotate('Strong correlation at lag = 2', xy=(2.1, -0.5),  xycoords='data',\n",
        "            xytext=(0.25, 0.1), textcoords='axes fraction',\n",
        "            arrowprops=dict(color='red', shrink=0.05, width=1))\n",
        "\n",
        "### MA(1) ###\n",
        "np.random.seed(SEED)\n",
        "ar = np.r_[1] # add zero-lag and negate\n",
        "ma = np.r_[1, np.array([beta_1])] # add zero-lag\n",
        "\n",
        "sample = pd.DataFrame({'timestamp' : pd.date_range('2021-01-01', periods=num_samples, freq='MS'),\n",
        "                       't' : sm.tsa.arima_process.arma_generate_sample(ar, ma, num_samples)\n",
        "                      })\n",
        "\n",
        "sns.lineplot(x=sample.timestamp, y=sample['t'], marker='o', ax=ax[2,0])\n",
        "ax[2,0].set_xlim([sample.timestamp.iloc[0], sample.timestamp.iloc[-1]])\n",
        "ax[2,0].set_title('Time Series for MA(1)')\n",
        "\n",
        "plot_acf(sample['t'],lags=lag_acf, ax=ax[2, 1], title='ACF for MA(1)')\n",
        "plot_pacf(sample['t'],lags=lag_pacf, ax=ax[2, 2], method='ols', title='PACF for MA(1)')\n",
        "\n",
        "ax[2,1].annotate('Strong correlation at lag = 1', xy=(1, 0.5),  xycoords='data',\n",
        "            xytext=(0.15, 0.7), textcoords='axes fraction',\n",
        "            arrowprops=dict(color='red', shrink=0.05, width=1))\n",
        "\n",
        "### MA(2) ###\n",
        "np.random.seed(SEED)\n",
        "ar = np.r_[1] # add zero-lag and negate\n",
        "ma = np.r_[1, np.array([beta_1, beta_2])] # add zero-lag\n",
        "\n",
        "sample = pd.DataFrame({'timestamp' : pd.date_range('2021-01-01', periods=num_samples, freq='MS'),\n",
        "                       't' : sm.tsa.arima_process.arma_generate_sample(ar, ma, num_samples)\n",
        "                      })\n",
        "\n",
        "sns.lineplot(x=sample.timestamp, y=sample['t'], marker='o', ax=ax[3,0])\n",
        "ax[3,0].set_xlim([sample.timestamp.iloc[0], sample.timestamp.iloc[-1]])\n",
        "ax[3,0].set_title('Time Series for MA(2)')\n",
        "\n",
        "plot_acf(sample['t'],lags=lag_acf, ax=ax[3, 1], title='ACF for MA(2)')\n",
        "plot_pacf(sample['t'],lags=lag_pacf, ax=ax[3, 2], method='ols', title='PACF for MA(2)')\n",
        "\n",
        "ax[3, 1].annotate('Strong correlation at lag = 1', xy=(1, 0.65),  xycoords='data',\n",
        "            xytext=(0.15, 0.8), textcoords='axes fraction',\n",
        "            arrowprops=dict(color='red', shrink=0.05, width=1))\n",
        "\n",
        "ax[3, 1].annotate('Strong correlation at lag = 2', xy=(2, 0.5),  xycoords='data',\n",
        "            xytext=(0.25, 0.7), textcoords='axes fraction',\n",
        "            arrowprops=dict(color='red', shrink=0.05, width=1))\n",
        "\n",
        "### Periodical ###\n",
        "sample = pd.DataFrame({'timestamp' : pd.date_range('2021-01-01', periods=48, freq='MS'),\n",
        "                       't' : [1, 2, 3, 4, 4.5, 5, 7, 8, 6, 4, 2, 2, 1, 2, 3, 4, 4.5, 5, 7, 8, 6, 4, 2, 2, 1, 2, 3, 4, 4.5, 5, 7, 8, 6, 4, 2, 2, 1, 2, 3, 4, 4.5, 5, 7, 8, 6, 4, 2, 2]\n",
        "                      })\n",
        "\n",
        "sns.lineplot(x=sample.timestamp, y=sample['t'], marker='o', ax=ax[4,0])\n",
        "ax[4,0].set_xlim([sample.timestamp.iloc[0], sample.timestamp.iloc[-1]])\n",
        "ax[4,0].set_title('Time Series for Periodical')\n",
        "\n",
        "plot_acf(sample['t'],lags=lag_acf, ax=ax[4, 1], title='ACF for Periodical')\n",
        "plot_pacf(sample['t'],lags=lag_pacf, ax=ax[4, 2], method='ols', title='PACF for Periodical')\n",
        "\n",
        "ax[4,2].axvline(x=T, color='r', linestyle='--')\n",
        "\n",
        "### Trend ###\n",
        "sample = pd.DataFrame({'timestamp' : pd.date_range('2021-01-01', periods=48, freq='MS'),\n",
        "                       't' : ((0.05*time)+20)\n",
        "                      })\n",
        "\n",
        "sns.lineplot(x=sample.timestamp, y=sample['t'], marker='o', ax=ax[5,0])\n",
        "ax[5,0].set_xlim([sample.timestamp.iloc[0], sample.timestamp.iloc[-1]])\n",
        "ax[5,0].set_title('Time Series for Trend (NON-STATIONARY!)')\n",
        "\n",
        "plot_acf(sample['t'],lags=lag_acf, ax=ax[5, 1], title='ACF for Trend (applied to non-stationary)')\n",
        "plot_pacf(sample['t'],lags=lag_pacf, ax=ax[5, 2], method='ols', title='PACF for Trend (applied to non-stationary)')\n",
        "\n",
        "### White Noise ###\n",
        "sample = pd.DataFrame({'timestamp' : pd.date_range('2021-01-01', periods=48, freq='MS'),\n",
        "                       't' : np.random.randint(1,101,len(time))\n",
        "                      })\n",
        "\n",
        "sns.lineplot(x=sample.timestamp, y=sample['t'], marker='o', ax=ax[6,0])\n",
        "ax[6,0].set_xlim([sample.timestamp.iloc[0], sample.timestamp.iloc[-1]])\n",
        "ax[6,0].set_title('Time Series for White Noise')\n",
        "\n",
        "plot_acf(sample['t'],lags=lag_acf, ax=ax[6, 1], title='ACF for White Noise')\n",
        "plot_pacf(sample['t'],lags=lag_pacf, ax=ax[6, 2], method='ols', title='PACF for White Noise')\n",
        "\n",
        "### Random-Walk ###\n",
        "sample = pd.DataFrame({'timestamp' : pd.date_range('2021-01-01', periods=48, freq='MS'),\n",
        "                       't' : random_walk\n",
        "                      })\n",
        "\n",
        "sns.lineplot(x=sample.timestamp, y=sample['t'], marker='o', ax=ax[7,0])\n",
        "ax[7,0].set_xlim([sample.timestamp.iloc[0], sample.timestamp.iloc[-1]])\n",
        "ax[7,0].set_title('Time Series for Random-Walk (NON-STATIONARY!)')\n",
        "\n",
        "plot_acf(sample['t'],lags=lag_acf, ax=ax[7, 1], title='ACF for Random-Walk (applied to non-stationary)')\n",
        "plot_pacf(sample['t'],lags=lag_pacf, ax=ax[7, 2], method='ols', title='PACF for Random-Walk (applied to non-stationary)')\n",
        "\n",
        "sample['t_diff'] = sample['t'].diff().fillna(0)\n",
        "\n",
        "plot_acf(sample['t_diff'],lags=lag_acf, ax=ax[8, 1], title='ACF for Random-Walk (applied to differenced/stationary)')\n",
        "plot_pacf(sample['t_diff'],lags=lag_pacf, ax=ax[8, 2], method='ols', title='PACF for Random-Walk (applied to differenced/stationary)')\n",
        "\n",
        "\n",
        "### Constant ###\n",
        "sample = pd.DataFrame({'timestamp' : pd.date_range('2021-01-01', periods=48, freq='MS'),\n",
        "                       't' : 5\n",
        "                      })\n",
        "\n",
        "sns.lineplot(x=sample.timestamp, y=sample['t'], marker='o', ax=ax[9,0])\n",
        "ax[9,0].set_xlim([sample.timestamp.iloc[0], sample.timestamp.iloc[-1]])\n",
        "ax[9,0].set_title('Time Series for Constant (NON-STATIONARY!)')\n",
        "\n",
        "plot_acf(sample['t'],lags=lag_acf, ax=ax[9, 1], title='ACF for Constant (applied to non-stationary)')\n",
        "plot_pacf(sample['t'],lags=lag_pacf, ax=ax[9, 2], method='ols', title='PACF for Constant (applied to non-stationary)')\n",
        "\n",
        "for i in range(9):\n",
        "    ax[i, 1].set_ylim([-1.1, 1.1])\n",
        "    ax[i, 2].set_ylim([-1.1, 1.1])\n",
        "\n",
        "\n",
        "f.delaxes(ax[8, 0])\n",
        "plt.tight_layout()\n",
        "plt.show()"
      ],
      "metadata": {
        "id": "zk1ARuhY7WJD"
      },
      "execution_count": null,
      "outputs": []
    },
    {
      "cell_type": "code",
      "source": [
        "data_folder = \"../input/g-research-crypto-forecasting/\"\n",
        "train = pd.read_csv(data_folder + 'train.csv', low_memory=False)\n",
        "train['timestamp'] = train['timestamp'].astype('datetime64[s]')"
      ],
      "metadata": {
        "id": "uIw8GXzG7fsk"
      },
      "execution_count": null,
      "outputs": []
    },
    {
      "cell_type": "code",
      "source": [
        "train_mini = train[train.Asset_ID == 1].reset_index()\n",
        "\n",
        "train_mini = train_mini[['timestamp','Close']].resample('D', on='timestamp').last()['Close']\n",
        "train_mini = train_mini.to_frame().reset_index(drop=False)\n",
        "\n",
        "f, ax = plt.subplots(nrows=1, ncols=1, figsize=(12,5))\n",
        "\n",
        "sns.lineplot(data=train_mini, x='timestamp', y='Close')\n",
        "plt.show()"
      ],
      "metadata": {
        "id": "s5fmeWUE7lyS"
      },
      "execution_count": null,
      "outputs": []
    },
    {
      "cell_type": "code",
      "source": [
        "check_stationarity(train_mini['Close'])\n",
        "train_mini['Close_diff'] = train_mini['Close'].diff().fillna(0)\n",
        "check_stationarity(train_mini['Close_diff'])"
      ],
      "metadata": {
        "id": "brkQ8iOs7odw"
      },
      "execution_count": null,
      "outputs": []
    },
    {
      "cell_type": "code",
      "source": [
        "f, ax = plt.subplots(nrows=1, ncols=1, figsize=(12,5))\n",
        "sns.lineplot(data=train_mini, x='timestamp', y='Close_diff')\n",
        "plt.show()\n",
        "f, ax = plt.subplots(nrows=1, ncols=1, figsize=(12,5))\n",
        "sns.histplot(train_mini['Close_diff'] )\n",
        "plt.show()"
      ],
      "metadata": {
        "id": "d84IuIkO7sFg"
      },
      "execution_count": null,
      "outputs": []
    },
    {
      "cell_type": "code",
      "source": [
        "f, ax = plt.subplots(nrows=2, ncols=2, figsize=(2*width, 2*height))\n",
        "\n",
        "plot_acf(train_mini['Close'], lags=20, ax=ax[0, 0], title='ACF on non-stationary')\n",
        "plot_pacf(train_mini['Close'], lags=20, ax=ax[0, 1], method='ols', title='PACF on non-stationary')\n",
        "\n",
        "plot_acf(train_mini['Close_diff'], lags=20, ax=ax[1, 0], title='ACF on differenced/stationary')\n",
        "plot_pacf(train_mini['Close_diff'], lags=20, ax=ax[1, 1], method='ols', title='PACF on differenced/stationary')\n",
        "\n",
        "plt.tight_layout()\n",
        "plt.show()"
      ],
      "metadata": {
        "id": "RZnTgQFM7uq3"
      },
      "execution_count": null,
      "outputs": []
    },
    {
      "cell_type": "code",
      "source": [
        "train_mini = train[train.Asset_ID == 6].reset_index()\n",
        "\n",
        "train_mini = train_mini[['timestamp','Close']].resample('D', on='timestamp').last()['Close']\n",
        "train_mini = train_mini.to_frame().reset_index(drop=False)\n",
        "\n",
        "f, ax = plt.subplots(nrows=1, ncols=1, figsize=(12,5))\n",
        "\n",
        "sns.lineplot(data=train_mini, x='timestamp', y='Close')\n",
        "plt.show()"
      ],
      "metadata": {
        "id": "mPSzgi-r7ylZ"
      },
      "execution_count": null,
      "outputs": []
    },
    {
      "cell_type": "code",
      "source": [
        "check_stationarity(train_mini['Close'])\n",
        "\n",
        "train_mini['Close_diff'] = train_mini['Close'].diff().fillna(0)\n",
        "\n",
        "check_stationarity(train_mini['Close_diff'])"
      ],
      "metadata": {
        "id": "9nFtvJas71lG"
      },
      "execution_count": null,
      "outputs": []
    },
    {
      "cell_type": "code",
      "source": [
        "f, ax = plt.subplots(nrows=1, ncols=1, figsize=(12,5))\n",
        "\n",
        "sns.lineplot(data=train_mini, x='timestamp', y='Close_diff')\n",
        "plt.show()\n",
        "\n",
        "f, ax = plt.subplots(nrows=1, ncols=1, figsize=(12,5))\n",
        "\n",
        "sns.histplot(train_mini['Close_diff'] )\n",
        "plt.show()"
      ],
      "metadata": {
        "id": "79-1grfz74xG"
      },
      "execution_count": null,
      "outputs": []
    },
    {
      "cell_type": "code",
      "source": [
        "f, ax = plt.subplots(nrows=2, ncols=2, figsize=(2*width, 2*height))\n",
        "\n",
        "plot_acf(train_mini['Close'], lags=20, ax=ax[0, 0], title='ACF on non-stationary')\n",
        "plot_pacf(train_mini['Close'], lags=20, ax=ax[0, 1], method='ols', title='PACF on non-stationary')\n",
        "\n",
        "plot_acf(train_mini['Close_diff'], lags=20, ax=ax[1, 0], title='ACF on differenced/stationary')\n",
        "plot_pacf(train_mini['Close_diff'], lags=20, ax=ax[1, 1], method='ols', title='PACF on differenced/stationary')\n",
        "\n",
        "plt.tight_layout()\n",
        "plt.show()"
      ],
      "metadata": {
        "id": "2Yabr6dr77b1"
      },
      "execution_count": null,
      "outputs": []
    }
  ]
}